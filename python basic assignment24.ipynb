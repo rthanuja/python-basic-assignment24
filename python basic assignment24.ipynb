{
 "cells": [
  {
   "cell_type": "code",
   "execution_count": null,
   "id": "71ce1c4a",
   "metadata": {},
   "outputs": [],
   "source": [
    "#1. What is the relationship between def statements and lambda expressions?\n",
    "\n",
    "lambda expressions are single line anonymous functions which by default return a value whereas def statements are the\n",
    "lines of code in the function(which must be declared in the namespace) which returns a value if it is explicitly \n",
    "mentions return keyword."
   ]
  },
  {
   "cell_type": "code",
   "execution_count": null,
   "id": "be92661e",
   "metadata": {},
   "outputs": [],
   "source": [
    "#2. What is the benefit of lambda?\n",
    "\n",
    "lambda avoids cluttering up the code with function definitions.It is defined in a single line of code and can be \n",
    "used immediately."
   ]
  },
  {
   "cell_type": "code",
   "execution_count": null,
   "id": "b5ea2223",
   "metadata": {},
   "outputs": [],
   "source": [
    "#3. Compare and contrast map, filter, and reduce.\n",
    "\n",
    "map(function,*iterable)- perform the same operation on all elements in an iterable that is returns an output after applying\n",
    "the function to each iterable.\n",
    "filter(function,iterable)- function argument is required to return a boolean type.It filters a subset of elements\n",
    "that meet a ceratin set of conditions.\n",
    "reduce(function,iterable)-it reduces the input to a single element or value.\n",
    "map and filter are built in python functions whereas reduce has to be imported from functools module."
   ]
  },
  {
   "cell_type": "code",
   "execution_count": null,
   "id": "b4e4c0ab",
   "metadata": {},
   "outputs": [],
   "source": [
    "#4. What are function annotations, and how are they used?\n",
    "\n",
    "function annotations are some random expressions which are written with the functions.They do not exist at runtime and are\n",
    "evaluated at compile time.They are used and interpreted by a third party or external python libraries.\n",
    "syntax:\n",
    "def functionName(argumentName : expression):  "
   ]
  },
  {
   "cell_type": "code",
   "execution_count": null,
   "id": "7ef740b5",
   "metadata": {},
   "outputs": [],
   "source": [
    "#5. What are recursive functions, and how are they used?\n",
    "\n",
    "Recursive functions is a function in a code that refers to itself for execution."
   ]
  },
  {
   "cell_type": "code",
   "execution_count": null,
   "id": "f00ef0e5",
   "metadata": {},
   "outputs": [],
   "source": [
    "#6. What are some general design guidelines for coding functions?\n",
    "\n",
    "1.avoid using global variables.\n",
    "2.use docstring to determine what the function does.\n",
    "3.proper indentation.\n",
    "4.The Python standard library is conservative and requires limiting lines to 79 characters.\n",
    "5.try to follow a naming convention(like camel case) and maintain that throughout."
   ]
  },
  {
   "cell_type": "code",
   "execution_count": null,
   "id": "1739e478",
   "metadata": {},
   "outputs": [],
   "source": [
    "#7. Name three or more ways that functions can communicate results to a caller.\n",
    "\n",
    "return\n",
    "yield\n",
    "print"
   ]
  }
 ],
 "metadata": {
  "kernelspec": {
   "display_name": "Python 3 (ipykernel)",
   "language": "python",
   "name": "python3"
  },
  "language_info": {
   "codemirror_mode": {
    "name": "ipython",
    "version": 3
   },
   "file_extension": ".py",
   "mimetype": "text/x-python",
   "name": "python",
   "nbconvert_exporter": "python",
   "pygments_lexer": "ipython3",
   "version": "3.10.9"
  }
 },
 "nbformat": 4,
 "nbformat_minor": 5
}
